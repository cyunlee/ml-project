{
 "cells": [
  {
   "cell_type": "code",
   "execution_count": 1,
   "metadata": {},
   "outputs": [],
   "source": [
    "import pandas as pd\n",
    "import matplotlib.pyplot as plt\n",
    "import seaborn as sns\n",
    "\n",
    "import warnings\n",
    "warnings.filterwarnings('ignore')"
   ]
  },
  {
   "cell_type": "code",
   "execution_count": null,
   "metadata": {},
   "outputs": [],
   "source": [
    "# TODO: 데이터 불러와서 확인하기\n"
   ]
  },
  {
   "cell_type": "code",
   "execution_count": null,
   "metadata": {},
   "outputs": [],
   "source": [
    "# TODO: 결측치 처리및 문자열데이터 인코딩"
   ]
  },
  {
   "cell_type": "code",
   "execution_count": 54,
   "metadata": {},
   "outputs": [],
   "source": [
    "# 전체가 누락된 컬럼 : 'Hist Ave Max Wind Speed','Hist Ave Visibility','Hist Ave Sea Level Pressure'\n",
    "# 날씨와 무관한 컬럼 : 'Name','Date',Time (East Coast)','Location','Day Length','Notes', 'Sea Level Pressure'\n",
    "# 종속변수 : 'Launched?'"
   ]
  },
  {
   "cell_type": "code",
   "execution_count": null,
   "metadata": {},
   "outputs": [],
   "source": [
    "# 종속변수의 null 처리 : NaN -> 'N'\n"
   ]
  },
  {
   "cell_type": "code",
   "execution_count": null,
   "metadata": {},
   "outputs": [],
   "source": [
    "# 적당한 값으로 결측치 처리\n",
    "# crewed = Uncrewed로\n",
    "# Launche? = N\n",
    "# Wind Direction = Unknown\n",
    "# Condition = Cloudy\n",
    "# 기타는 중앙값 또는 최빈값\n"
   ]
  },
  {
   "cell_type": "code",
   "execution_count": null,
   "metadata": {},
   "outputs": [],
   "source": [
    "# 문자데이터 인코딩\n"
   ]
  },
  {
   "cell_type": "code",
   "execution_count": null,
   "metadata": {},
   "outputs": [],
   "source": [
    "# TODO: 데이터 분리하기\n"
   ]
  },
  {
   "cell_type": "code",
   "execution_count": 132,
   "metadata": {},
   "outputs": [],
   "source": [
    "# TODO: 모델 만들고 성능 평가하기기\n",
    "from sklearn.tree import DecisionTreeClassifier\n",
    "from sklearn.ensemble import RandomForestClassifier\n",
    "from sklearn.linear_model import LogisticRegression\n"
   ]
  },
  {
   "cell_type": "code",
   "execution_count": 154,
   "metadata": {},
   "outputs": [
    {
     "name": "stdout",
     "output_type": "stream",
     "text": [
      "\n",
      "compare DT ,RF, LR\n",
      "DT : 0.9833333333333332\n",
      "RF : 0.9833333333333333\n",
      "LR : 0.8666666666666667\n",
      "\n",
      "DT confusion matrix : \n",
      "              precision    recall  f1-score   support\n",
      "\n",
      "           N       1.00      0.98      0.99        49\n",
      "           Y       0.92      1.00      0.96        11\n",
      "\n",
      "    accuracy                           0.98        60\n",
      "   macro avg       0.96      0.99      0.97        60\n",
      "weighted avg       0.98      0.98      0.98        60\n",
      "\n",
      "\n",
      "RF confusion matrix : \n",
      "              precision    recall  f1-score   support\n",
      "\n",
      "           N       1.00      0.98      0.99        49\n",
      "           Y       0.92      1.00      0.96        11\n",
      "\n",
      "    accuracy                           0.98        60\n",
      "   macro avg       0.96      0.99      0.97        60\n",
      "weighted avg       0.98      0.98      0.98        60\n",
      "\n",
      "\n",
      "LR confusion matrix : \n",
      "              precision    recall  f1-score   support\n",
      "\n",
      "           N       0.87      0.98      0.92        49\n",
      "           Y       0.80      0.36      0.50        11\n",
      "\n",
      "    accuracy                           0.87        60\n",
      "   macro avg       0.84      0.67      0.71        60\n",
      "weighted avg       0.86      0.87      0.85        60\n",
      "\n",
      "\n"
     ]
    }
   ],
   "source": [
    "out = f'''\n",
    "compare DT ,RF, LR\n",
    "DT : {gr_search.best_score_}\n",
    "RF : {rf.score(X_test, y_test)}\n",
    "LR : {lr.score(X_test, y_test)}\n",
    "\n",
    "DT confusion matrix : \n",
    "{classification_report(y_test, gr_search.best_estimator_.predict(X_test))}\n",
    "\n",
    "RF confusion matrix : \n",
    "{classification_report(y_test, y_pred_rf)}\n",
    "\n",
    "LR confusion matrix : \n",
    "{classification_report(y_test, y_pred_lr)}\n",
    "'''\n",
    "print(out)"
   ]
  }
 ],
 "metadata": {
  "kernelspec": {
   "display_name": "Python 3",
   "language": "python",
   "name": "python3"
  },
  "language_info": {
   "codemirror_mode": {
    "name": "ipython",
    "version": 3
   },
   "file_extension": ".py",
   "mimetype": "text/x-python",
   "name": "python",
   "nbconvert_exporter": "python",
   "pygments_lexer": "ipython3",
   "version": "3.11.9"
  }
 },
 "nbformat": 4,
 "nbformat_minor": 2
}
