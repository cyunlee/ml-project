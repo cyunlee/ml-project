{
 "cells": [
  {
   "cell_type": "code",
   "execution_count": null,
   "metadata": {},
   "outputs": [],
   "source": [
    "# 필요한 라이브러리들 import\n",
    "import numpy as np\n",
    "import pandas as pd\n",
    "import matplotlib.pyplot as plt\n",
    "import seaborn as sns"
   ]
  },
  {
   "cell_type": "code",
   "execution_count": null,
   "metadata": {},
   "outputs": [
    {
     "data": {
      "text/html": [
       "<div>\n",
       "<style scoped>\n",
       "    .dataframe tbody tr th:only-of-type {\n",
       "        vertical-align: middle;\n",
       "    }\n",
       "\n",
       "    .dataframe tbody tr th {\n",
       "        vertical-align: top;\n",
       "    }\n",
       "\n",
       "    .dataframe thead th {\n",
       "        text-align: right;\n",
       "    }\n",
       "</style>\n",
       "<table border=\"1\" class=\"dataframe\">\n",
       "  <thead>\n",
       "    <tr style=\"text-align: right;\">\n",
       "      <th></th>\n",
       "      <th>YrPlayer</th>\n",
       "      <th>Year</th>\n",
       "      <th>Rank</th>\n",
       "      <th>Player</th>\n",
       "      <th>Team</th>\n",
       "      <th>AVG</th>\n",
       "      <th>G</th>\n",
       "      <th>PA</th>\n",
       "      <th>AB</th>\n",
       "      <th>H</th>\n",
       "      <th>...</th>\n",
       "      <th>OBP</th>\n",
       "      <th>SLG</th>\n",
       "      <th>OPS</th>\n",
       "      <th>ISO</th>\n",
       "      <th>SECA</th>\n",
       "      <th>TA</th>\n",
       "      <th>RC</th>\n",
       "      <th>RC/27</th>\n",
       "      <th>wOBA</th>\n",
       "      <th>XR</th>\n",
       "    </tr>\n",
       "  </thead>\n",
       "  <tbody>\n",
       "    <tr>\n",
       "      <th>0</th>\n",
       "      <td>2000박종호</td>\n",
       "      <td>2000</td>\n",
       "      <td>1</td>\n",
       "      <td>박종호</td>\n",
       "      <td>현대</td>\n",
       "      <td>0.340</td>\n",
       "      <td>121</td>\n",
       "      <td>541</td>\n",
       "      <td>441</td>\n",
       "      <td>150</td>\n",
       "      <td>...</td>\n",
       "      <td>0.428023</td>\n",
       "      <td>0.489796</td>\n",
       "      <td>0.917819</td>\n",
       "      <td>0.149660</td>\n",
       "      <td>0.297052</td>\n",
       "      <td>0.976667</td>\n",
       "      <td>100.354529</td>\n",
       "      <td>8.286154</td>\n",
       "      <td>0.400138</td>\n",
       "      <td>92.804</td>\n",
       "    </tr>\n",
       "    <tr>\n",
       "      <th>1</th>\n",
       "      <td>2000김동주</td>\n",
       "      <td>2000</td>\n",
       "      <td>2</td>\n",
       "      <td>김동주</td>\n",
       "      <td>두산</td>\n",
       "      <td>0.339</td>\n",
       "      <td>127</td>\n",
       "      <td>539</td>\n",
       "      <td>469</td>\n",
       "      <td>159</td>\n",
       "      <td>...</td>\n",
       "      <td>0.413729</td>\n",
       "      <td>0.603412</td>\n",
       "      <td>1.017141</td>\n",
       "      <td>0.264392</td>\n",
       "      <td>0.379531</td>\n",
       "      <td>1.063830</td>\n",
       "      <td>115.473840</td>\n",
       "      <td>9.306847</td>\n",
       "      <td>0.431993</td>\n",
       "      <td>105.000</td>\n",
       "    </tr>\n",
       "    <tr>\n",
       "      <th>2</th>\n",
       "      <td>2000브리또</td>\n",
       "      <td>2000</td>\n",
       "      <td>3</td>\n",
       "      <td>브리또</td>\n",
       "      <td>SK</td>\n",
       "      <td>0.338</td>\n",
       "      <td>103</td>\n",
       "      <td>452</td>\n",
       "      <td>405</td>\n",
       "      <td>137</td>\n",
       "      <td>...</td>\n",
       "      <td>0.398664</td>\n",
       "      <td>0.533333</td>\n",
       "      <td>0.931997</td>\n",
       "      <td>0.195062</td>\n",
       "      <td>0.274074</td>\n",
       "      <td>0.931655</td>\n",
       "      <td>86.204956</td>\n",
       "      <td>8.224501</td>\n",
       "      <td>0.400969</td>\n",
       "      <td>77.820</td>\n",
       "    </tr>\n",
       "    <tr>\n",
       "      <th>3</th>\n",
       "      <td>2000송지만</td>\n",
       "      <td>2000</td>\n",
       "      <td>4</td>\n",
       "      <td>송지만</td>\n",
       "      <td>한화</td>\n",
       "      <td>0.338</td>\n",
       "      <td>120</td>\n",
       "      <td>530</td>\n",
       "      <td>468</td>\n",
       "      <td>158</td>\n",
       "      <td>...</td>\n",
       "      <td>0.409434</td>\n",
       "      <td>0.621795</td>\n",
       "      <td>1.031229</td>\n",
       "      <td>0.284188</td>\n",
       "      <td>0.423077</td>\n",
       "      <td>1.110092</td>\n",
       "      <td>119.916981</td>\n",
       "      <td>9.811389</td>\n",
       "      <td>0.436688</td>\n",
       "      <td>107.594</td>\n",
       "    </tr>\n",
       "    <tr>\n",
       "      <th>4</th>\n",
       "      <td>2000데이비스</td>\n",
       "      <td>2000</td>\n",
       "      <td>5</td>\n",
       "      <td>데이비스</td>\n",
       "      <td>한화</td>\n",
       "      <td>0.334</td>\n",
       "      <td>107</td>\n",
       "      <td>458</td>\n",
       "      <td>419</td>\n",
       "      <td>140</td>\n",
       "      <td>...</td>\n",
       "      <td>0.367033</td>\n",
       "      <td>0.565632</td>\n",
       "      <td>0.932665</td>\n",
       "      <td>0.231504</td>\n",
       "      <td>0.324582</td>\n",
       "      <td>0.923588</td>\n",
       "      <td>82.605677</td>\n",
       "      <td>7.125729</td>\n",
       "      <td>0.394586</td>\n",
       "      <td>80.284</td>\n",
       "    </tr>\n",
       "  </tbody>\n",
       "</table>\n",
       "<p>5 rows × 36 columns</p>\n",
       "</div>"
      ],
      "text/plain": [
       "    YrPlayer  Year  Rank Player Team    AVG    G   PA   AB    H  ...  \\\n",
       "0   2000박종호   2000     1   박종호   현대   0.340  121  541  441  150  ...   \n",
       "1   2000김동주   2000     2   김동주   두산   0.339  127  539  469  159  ...   \n",
       "2   2000브리또   2000     3   브리또   SK   0.338  103  452  405  137  ...   \n",
       "3   2000송지만   2000     4   송지만   한화   0.338  120  530  468  158  ...   \n",
       "4  2000데이비스   2000     5  데이비스   한화   0.334  107  458  419  140  ...   \n",
       "\n",
       "        OBP       SLG       OPS       ISO      SECA        TA          RC  \\\n",
       "0  0.428023  0.489796  0.917819  0.149660  0.297052  0.976667  100.354529   \n",
       "1  0.413729  0.603412  1.017141  0.264392  0.379531  1.063830  115.473840   \n",
       "2  0.398664  0.533333  0.931997  0.195062  0.274074  0.931655   86.204956   \n",
       "3  0.409434  0.621795  1.031229  0.284188  0.423077  1.110092  119.916981   \n",
       "4  0.367033  0.565632  0.932665  0.231504  0.324582  0.923588   82.605677   \n",
       "\n",
       "      RC/27      wOBA       XR  \n",
       "0  8.286154  0.400138   92.804  \n",
       "1  9.306847  0.431993  105.000  \n",
       "2  8.224501  0.400969   77.820  \n",
       "3  9.811389  0.436688  107.594  \n",
       "4  7.125729  0.394586   80.284  \n",
       "\n",
       "[5 rows x 36 columns]"
      ]
     },
     "execution_count": 4,
     "metadata": {},
     "output_type": "execute_result"
    }
   ],
   "source": [
    "# csv를 읽어와서 Pandas DataFrame으로 저장\n"
   ]
  },
  {
   "cell_type": "code",
   "execution_count": null,
   "metadata": {},
   "outputs": [
    {
     "data": {
      "text/html": [
       "<div>\n",
       "<style scoped>\n",
       "    .dataframe tbody tr th:only-of-type {\n",
       "        vertical-align: middle;\n",
       "    }\n",
       "\n",
       "    .dataframe tbody tr th {\n",
       "        vertical-align: top;\n",
       "    }\n",
       "\n",
       "    .dataframe thead th {\n",
       "        text-align: right;\n",
       "    }\n",
       "</style>\n",
       "<table border=\"1\" class=\"dataframe\">\n",
       "  <thead>\n",
       "    <tr style=\"text-align: right;\">\n",
       "      <th></th>\n",
       "      <th>YrPlayer</th>\n",
       "      <th>Year</th>\n",
       "      <th>Rank</th>\n",
       "      <th>Player</th>\n",
       "      <th>Team</th>\n",
       "      <th>AVG</th>\n",
       "      <th>G</th>\n",
       "      <th>PA</th>\n",
       "      <th>AB</th>\n",
       "      <th>H</th>\n",
       "      <th>...</th>\n",
       "      <th>TA</th>\n",
       "      <th>RC</th>\n",
       "      <th>RC/27</th>\n",
       "      <th>wOBA</th>\n",
       "      <th>XR</th>\n",
       "      <th>R</th>\n",
       "      <th>SAC</th>\n",
       "      <th>MH</th>\n",
       "      <th>RISP</th>\n",
       "      <th>PH-BA</th>\n",
       "    </tr>\n",
       "  </thead>\n",
       "  <tbody>\n",
       "    <tr>\n",
       "      <th>0</th>\n",
       "      <td>2000박종호</td>\n",
       "      <td>2000</td>\n",
       "      <td>1</td>\n",
       "      <td>박종호</td>\n",
       "      <td>현대</td>\n",
       "      <td>0.340</td>\n",
       "      <td>121</td>\n",
       "      <td>541</td>\n",
       "      <td>441</td>\n",
       "      <td>150</td>\n",
       "      <td>...</td>\n",
       "      <td>0.976667</td>\n",
       "      <td>100.354529</td>\n",
       "      <td>8.286154</td>\n",
       "      <td>0.400138</td>\n",
       "      <td>92.804</td>\n",
       "      <td>NaN</td>\n",
       "      <td>NaN</td>\n",
       "      <td>NaN</td>\n",
       "      <td>NaN</td>\n",
       "      <td>NaN</td>\n",
       "    </tr>\n",
       "    <tr>\n",
       "      <th>1</th>\n",
       "      <td>2000김동주</td>\n",
       "      <td>2000</td>\n",
       "      <td>2</td>\n",
       "      <td>김동주</td>\n",
       "      <td>두산</td>\n",
       "      <td>0.339</td>\n",
       "      <td>127</td>\n",
       "      <td>539</td>\n",
       "      <td>469</td>\n",
       "      <td>159</td>\n",
       "      <td>...</td>\n",
       "      <td>1.063830</td>\n",
       "      <td>115.473840</td>\n",
       "      <td>9.306847</td>\n",
       "      <td>0.431993</td>\n",
       "      <td>105.000</td>\n",
       "      <td>NaN</td>\n",
       "      <td>NaN</td>\n",
       "      <td>NaN</td>\n",
       "      <td>NaN</td>\n",
       "      <td>NaN</td>\n",
       "    </tr>\n",
       "    <tr>\n",
       "      <th>2</th>\n",
       "      <td>2000브리또</td>\n",
       "      <td>2000</td>\n",
       "      <td>3</td>\n",
       "      <td>브리또</td>\n",
       "      <td>SK</td>\n",
       "      <td>0.338</td>\n",
       "      <td>103</td>\n",
       "      <td>452</td>\n",
       "      <td>405</td>\n",
       "      <td>137</td>\n",
       "      <td>...</td>\n",
       "      <td>0.931655</td>\n",
       "      <td>86.204956</td>\n",
       "      <td>8.224501</td>\n",
       "      <td>0.400969</td>\n",
       "      <td>77.820</td>\n",
       "      <td>NaN</td>\n",
       "      <td>NaN</td>\n",
       "      <td>NaN</td>\n",
       "      <td>NaN</td>\n",
       "      <td>NaN</td>\n",
       "    </tr>\n",
       "    <tr>\n",
       "      <th>3</th>\n",
       "      <td>2000송지만</td>\n",
       "      <td>2000</td>\n",
       "      <td>4</td>\n",
       "      <td>송지만</td>\n",
       "      <td>한화</td>\n",
       "      <td>0.338</td>\n",
       "      <td>120</td>\n",
       "      <td>530</td>\n",
       "      <td>468</td>\n",
       "      <td>158</td>\n",
       "      <td>...</td>\n",
       "      <td>1.110092</td>\n",
       "      <td>119.916981</td>\n",
       "      <td>9.811389</td>\n",
       "      <td>0.436688</td>\n",
       "      <td>107.594</td>\n",
       "      <td>NaN</td>\n",
       "      <td>NaN</td>\n",
       "      <td>NaN</td>\n",
       "      <td>NaN</td>\n",
       "      <td>NaN</td>\n",
       "    </tr>\n",
       "    <tr>\n",
       "      <th>4</th>\n",
       "      <td>2000데이비스</td>\n",
       "      <td>2000</td>\n",
       "      <td>5</td>\n",
       "      <td>데이비스</td>\n",
       "      <td>한화</td>\n",
       "      <td>0.334</td>\n",
       "      <td>107</td>\n",
       "      <td>458</td>\n",
       "      <td>419</td>\n",
       "      <td>140</td>\n",
       "      <td>...</td>\n",
       "      <td>0.923588</td>\n",
       "      <td>82.605677</td>\n",
       "      <td>7.125729</td>\n",
       "      <td>0.394586</td>\n",
       "      <td>80.284</td>\n",
       "      <td>NaN</td>\n",
       "      <td>NaN</td>\n",
       "      <td>NaN</td>\n",
       "      <td>NaN</td>\n",
       "      <td>NaN</td>\n",
       "    </tr>\n",
       "  </tbody>\n",
       "</table>\n",
       "<p>5 rows × 41 columns</p>\n",
       "</div>"
      ],
      "text/plain": [
       "    YrPlayer  Year  Rank Player Team    AVG    G   PA   AB    H  ...  \\\n",
       "0   2000박종호   2000     1   박종호   현대   0.340  121  541  441  150  ...   \n",
       "1   2000김동주   2000     2   김동주   두산   0.339  127  539  469  159  ...   \n",
       "2   2000브리또   2000     3   브리또   SK   0.338  103  452  405  137  ...   \n",
       "3   2000송지만   2000     4   송지만   한화   0.338  120  530  468  158  ...   \n",
       "4  2000데이비스   2000     5  데이비스   한화   0.334  107  458  419  140  ...   \n",
       "\n",
       "         TA          RC     RC/27      wOBA       XR   R  SAC  MH  RISP  PH-BA  \n",
       "0  0.976667  100.354529  8.286154  0.400138   92.804 NaN  NaN NaN   NaN    NaN  \n",
       "1  1.063830  115.473840  9.306847  0.431993  105.000 NaN  NaN NaN   NaN    NaN  \n",
       "2  0.931655   86.204956  8.224501  0.400969   77.820 NaN  NaN NaN   NaN    NaN  \n",
       "3  1.110092  119.916981  9.811389  0.436688  107.594 NaN  NaN NaN   NaN    NaN  \n",
       "4  0.923588   82.605677  7.125729  0.394586   80.284 NaN  NaN NaN   NaN    NaN  \n",
       "\n",
       "[5 rows x 41 columns]"
      ]
     },
     "execution_count": 5,
     "metadata": {},
     "output_type": "execute_result"
    }
   ],
   "source": [
    "#파일을 합치기\n"
   ]
  },
  {
   "cell_type": "code",
   "execution_count": null,
   "metadata": {},
   "outputs": [],
   "source": [
    "# 변수 선택\n",
    "X = df_combined[['OPS','ISO','SECA','TA','RC','RC/27','wOBA','XR']]\n",
    "y = df_combined['YrPlayer']\n",
    "\n",
    "print(X.shape, y.shape)\n",
    "X.head()\n",
    "y.head()"
   ]
  },
  {
   "cell_type": "code",
   "execution_count": null,
   "metadata": {},
   "outputs": [],
   "source": [
    "# 데이터 분포 확인"
   ]
  },
  {
   "cell_type": "code",
   "execution_count": null,
   "metadata": {},
   "outputs": [
    {
     "data": {
      "text/plain": [
       "array([[ 0.97614887, -0.07422939,  0.10417649, ...,  1.20484091,\n",
       "         1.11880719,  1.21433377],\n",
       "       [ 1.89711625,  1.67989079,  1.05416505, ...,  1.75823146,\n",
       "         1.89486616,  1.85744936],\n",
       "       [ 1.10761611,  0.61991005, -0.16048453, ...,  1.1714146 ,\n",
       "         1.13904003,  0.42420225],\n",
       "       ...,\n",
       "       [-0.42233048, -0.05169927,  0.77350431, ..., -0.32541846,\n",
       "        -0.43538549, -0.33597768],\n",
       "       [-1.46085838, -1.39601302, -1.62726689, ..., -1.37885116,\n",
       "        -1.47288829, -1.11957047],\n",
       "       [-1.28467954, -1.24146838, -0.64887581, ..., -1.19083305,\n",
       "        -1.21125882, -1.3345048 ]])"
      ]
     },
     "execution_count": 8,
     "metadata": {},
     "output_type": "execute_result"
    }
   ],
   "source": [
    "# 데이터 스케일링"
   ]
  },
  {
   "cell_type": "code",
   "execution_count": null,
   "metadata": {},
   "outputs": [],
   "source": [
    "# 최적의 k 찾기\n"
   ]
  },
  {
   "cell_type": "code",
   "execution_count": null,
   "metadata": {},
   "outputs": [],
   "source": [
    "# 엘보우 기법으로 최적의 k 찾기"
   ]
  },
  {
   "cell_type": "code",
   "execution_count": null,
   "metadata": {},
   "outputs": [],
   "source": [
    "# 실루엣 점수 확인"
   ]
  },
  {
   "cell_type": "code",
   "execution_count": null,
   "metadata": {},
   "outputs": [],
   "source": [
    "# 군집화 결과 분석 \n",
    "\n",
    "# 데이터프레임 생성\n",
    "df = pd.DataFrame(X, columns=X.columns)\n",
    "df['cluster'] = cluster\n",
    "df.head()\n"
   ]
  },
  {
   "cell_type": "code",
   "execution_count": null,
   "metadata": {},
   "outputs": [],
   "source": [
    "# 군집의 데이터 특징 분석\n",
    "cols = df.columns[:-1]\n",
    "\n",
    "plt.figure(figsize=(15,8))\n",
    "for i, col in enumerate(cols):\n",
    "    plt.subplot(2,4,i+1)\n",
    "    sns.boxplot(data=df, y=col, hue='cluster', palette='muted')\n",
    "    plt.title(col)\n",
    "plt.tight_layout()"
   ]
  },
  {
   "cell_type": "code",
   "execution_count": null,
   "metadata": {},
   "outputs": [],
   "source": [
    "# 데이터프레임에 개별 데이터 실루엣 계수 컬럼 추가"
   ]
  },
  {
   "cell_type": "code",
   "execution_count": null,
   "metadata": {},
   "outputs": [],
   "source": [
    "# 잘못 군집화 된 클러스터\n",
    "df.loc[df['silhouette']<0]"
   ]
  },
  {
   "cell_type": "code",
   "execution_count": null,
   "metadata": {},
   "outputs": [],
   "source": [
    "# 클러스터 별 중심 player"
   ]
  },
  {
   "cell_type": "code",
   "execution_count": null,
   "metadata": {},
   "outputs": [],
   "source": []
  },
  {
   "cell_type": "code",
   "execution_count": null,
   "metadata": {},
   "outputs": [],
   "source": []
  },
  {
   "cell_type": "code",
   "execution_count": null,
   "metadata": {},
   "outputs": [
    {
     "data": {
      "text/plain": [
       "(649, 8)"
      ]
     },
     "execution_count": 10,
     "metadata": {},
     "output_type": "execute_result"
    }
   ],
   "source": [
    "# 전체 주성분 계산\n",
    "\n",
    "from sklearn.decomposition import PCA\n",
    "\n"
   ]
  },
  {
   "cell_type": "code",
   "execution_count": null,
   "metadata": {},
   "outputs": [
    {
     "data": {
      "text/plain": [
       "array([9.05145728e-01, 5.06261666e-02, 2.18885403e-02, 1.84561022e-02,\n",
       "       2.99299164e-03, 5.56239341e-04, 1.83919162e-04, 1.50312428e-04])"
      ]
     },
     "execution_count": 12,
     "metadata": {},
     "output_type": "execute_result"
    }
   ],
   "source": [
    "# 컬럼별 설명된 분산 비율 확인\n",
    "explained_variance = pca.explained_variance_ratio_\n",
    "explained_variance"
   ]
  },
  {
   "cell_type": "code",
   "execution_count": null,
   "metadata": {},
   "outputs": [
    {
     "data": {
      "text/plain": [
       "array([0.90514573, 0.95577189, 0.97766044, 0.99611654, 0.99910953,\n",
       "       0.99966577, 0.99984969, 1.        ])"
      ]
     },
     "execution_count": 13,
     "metadata": {},
     "output_type": "execute_result"
    }
   ],
   "source": [
    "# 누적분산 확인\n",
    "cumulative_variance = explained_variance.cumsum()\n",
    "cumulative_variance"
   ]
  },
  {
   "cell_type": "code",
   "execution_count": 14,
   "metadata": {},
   "outputs": [
    {
     "data": {
      "image/png": "[encoded data removed]",
      "text/plain": [
       "<Figure size 1000x600 with 1 Axes>"
      ]
     },
     "metadata": {},
     "output_type": "display_data"
    }
   ],
   "source": [
    "# Plot Scree Chart\n",
    "plt.figure(figsize=(10, 6))\n",
    "plt.plot(range(1, len(explained_variance) + 1), explained_variance, marker='o', linestyle='--')\n",
    "plt.title('Scree Plot')\n",
    "plt.xlabel('Principal Component')\n",
    "plt.ylabel('Explained Variance Ratio')\n",
    "plt.xticks(np.arange(1, len(explained_variance) + 1, 1))\n",
    "plt.grid()\n",
    "plt.show()"
   ]
  },
  {
   "cell_type": "code",
   "execution_count": 15,
   "metadata": {},
   "outputs": [
    {
     "data": {
      "text/plain": [
       "1"
      ]
     },
     "execution_count": 15,
     "metadata": {},
     "output_type": "execute_result"
    }
   ],
   "source": [
    "# 최적의 주성분 개수 선택 (예: 90% 이상의 분산을 설명하는 최소 주성분 개수)\n"
   ]
  },
  {
   "cell_type": "code",
   "execution_count": null,
   "metadata": {},
   "outputs": [
    {
     "data": {
      "text/plain": [
       "array([[ 2.48864775, -1.29871071],\n",
       "       [ 4.8638416 , -0.32843484],\n",
       "       [ 2.05850718, -0.4397998 ],\n",
       "       ...,\n",
       "       [-0.3971905 ,  0.69084294],\n",
       "       [-3.94087277, -0.42488303],\n",
       "       [-3.33227219,  0.22550401]])"
      ]
     },
     "execution_count": 17,
     "metadata": {},
     "output_type": "execute_result"
    }
   ],
   "source": [
    "# 2개의 주성분으로 변환하기 \n",
    "from sklearn.decomposition import PCA\n",
    "\n",
    "# PCA 수행\n",
    "\n"
   ]
  },
  {
   "cell_type": "code",
   "execution_count": 21,
   "metadata": {},
   "outputs": [
    {
     "data": {
      "text/plain": [
       "array([0.90514573, 0.05062617])"
      ]
     },
     "execution_count": 21,
     "metadata": {},
     "output_type": "execute_result"
    }
   ],
   "source": [
    "# PCA 설명된 분산 비율 출력\n"
   ]
  },
  {
   "cell_type": "code",
   "execution_count": 18,
   "metadata": {},
   "outputs": [
    {
     "data": {
      "text/html": [
       "<div>\n",
       "<style scoped>\n",
       "    .dataframe tbody tr th:only-of-type {\n",
       "        vertical-align: middle;\n",
       "    }\n",
       "\n",
       "    .dataframe tbody tr th {\n",
       "        vertical-align: top;\n",
       "    }\n",
       "\n",
       "    .dataframe thead th {\n",
       "        text-align: right;\n",
       "    }\n",
       "</style>\n",
       "<table border=\"1\" class=\"dataframe\">\n",
       "  <thead>\n",
       "    <tr style=\"text-align: right;\">\n",
       "      <th></th>\n",
       "      <th>principal component 1</th>\n",
       "      <th>principal component 2</th>\n",
       "    </tr>\n",
       "  </thead>\n",
       "  <tbody>\n",
       "    <tr>\n",
       "      <th>0</th>\n",
       "      <td>2.488648</td>\n",
       "      <td>-1.298711</td>\n",
       "    </tr>\n",
       "    <tr>\n",
       "      <th>1</th>\n",
       "      <td>4.863842</td>\n",
       "      <td>-0.328435</td>\n",
       "    </tr>\n",
       "    <tr>\n",
       "      <th>2</th>\n",
       "      <td>2.058507</td>\n",
       "      <td>-0.439800</td>\n",
       "    </tr>\n",
       "    <tr>\n",
       "      <th>3</th>\n",
       "      <td>5.544865</td>\n",
       "      <td>-0.087107</td>\n",
       "    </tr>\n",
       "    <tr>\n",
       "      <th>4</th>\n",
       "      <td>2.134990</td>\n",
       "      <td>0.387255</td>\n",
       "    </tr>\n",
       "    <tr>\n",
       "      <th>...</th>\n",
       "      <td>...</td>\n",
       "      <td>...</td>\n",
       "    </tr>\n",
       "    <tr>\n",
       "      <th>644</th>\n",
       "      <td>1.024438</td>\n",
       "      <td>1.383975</td>\n",
       "    </tr>\n",
       "    <tr>\n",
       "      <th>645</th>\n",
       "      <td>-1.873179</td>\n",
       "      <td>0.821719</td>\n",
       "    </tr>\n",
       "    <tr>\n",
       "      <th>646</th>\n",
       "      <td>-0.397191</td>\n",
       "      <td>0.690843</td>\n",
       "    </tr>\n",
       "    <tr>\n",
       "      <th>647</th>\n",
       "      <td>-3.940873</td>\n",
       "      <td>-0.424883</td>\n",
       "    </tr>\n",
       "    <tr>\n",
       "      <th>648</th>\n",
       "      <td>-3.332272</td>\n",
       "      <td>0.225504</td>\n",
       "    </tr>\n",
       "  </tbody>\n",
       "</table>\n",
       "<p>649 rows × 2 columns</p>\n",
       "</div>"
      ],
      "text/plain": [
       "     principal component 1  principal component 2\n",
       "0                 2.488648              -1.298711\n",
       "1                 4.863842              -0.328435\n",
       "2                 2.058507              -0.439800\n",
       "3                 5.544865              -0.087107\n",
       "4                 2.134990               0.387255\n",
       "..                     ...                    ...\n",
       "644               1.024438               1.383975\n",
       "645              -1.873179               0.821719\n",
       "646              -0.397191               0.690843\n",
       "647              -3.940873              -0.424883\n",
       "648              -3.332272               0.225504\n",
       "\n",
       "[649 rows x 2 columns]"
      ]
     },
     "execution_count": 18,
     "metadata": {},
     "output_type": "execute_result"
    }
   ],
   "source": [
    "# pc1, pc2로 결과 데이터프레임 생성 \n"
   ]
  },
  {
   "cell_type": "code",
   "execution_count": null,
   "metadata": {},
   "outputs": [],
   "source": [
    "# 주성분으로 군집화\n",
    "k = 4\n",
    "\n"
   ]
  },
  {
   "cell_type": "code",
   "execution_count": null,
   "metadata": {},
   "outputs": [],
   "source": [
    "# 군집 결과 시각화"
   ]
  },
  {
   "cell_type": "code",
   "execution_count": null,
   "metadata": {},
   "outputs": [],
   "source": [
    "# PCA를 하거나 하지 않은 경우 군집 결과 비교"
   ]
  }
 ],
 "metadata": {
  "kernelspec": {
   "display_name": "Python 3",
   "language": "python",
   "name": "python3"
  },
  "language_info": {
   "codemirror_mode": {
    "name": "ipython",
    "version": 3
   },
   "file_extension": ".py",
   "mimetype": "text/x-python",
   "name": "python",
   "nbconvert_exporter": "python",
   "pygments_lexer": "ipython3",
   "version": "3.10.13"
  }
 },
 "nbformat": 4,
 "nbformat_minor": 2
}
