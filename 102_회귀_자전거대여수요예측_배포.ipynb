{
  "cells": [
    {
      "cell_type": "code",
      "execution_count": 63,
      "metadata": {
        "id": "fY1_-V-lA2Ew"
      },
      "outputs": [],
      "source": [
        "import numpy as np\n",
        "import pandas as pd\n",
        "import matplotlib.pyplot as plt\n",
        "import seaborn as sns\n",
        "import warnings\n",
        "warnings.filterwarnings(\"ignore\")"
      ]
    },
    {
      "cell_type": "code",
      "execution_count": 64,
      "metadata": {},
      "outputs": [],
      "source": [
        "# 자전거 데이터 캐글\n",
        "# https://www.kaggle.com/c/bike-sharing-demand/overview"
      ]
    },
    {
      "cell_type": "code",
      "execution_count": 65,
      "metadata": {
        "colab": {
          "base_uri": "https://localhost:8080/",
          "height": 206
        },
        "id": "C_oExNm1A2Hw",
        "outputId": "2caf8d81-b459-4c21-d3af-d7ad91e66f15"
      },
      "outputs": [
        {
          "data": {
            "text/html": [
              "<div>\n",
              "<style scoped>\n",
              "    .dataframe tbody tr th:only-of-type {\n",
              "        vertical-align: middle;\n",
              "    }\n",
              "\n",
              "    .dataframe tbody tr th {\n",
              "        vertical-align: top;\n",
              "    }\n",
              "\n",
              "    .dataframe thead th {\n",
              "        text-align: right;\n",
              "    }\n",
              "</style>\n",
              "<table border=\"1\" class=\"dataframe\">\n",
              "  <thead>\n",
              "    <tr style=\"text-align: right;\">\n",
              "      <th></th>\n",
              "      <th>datetime</th>\n",
              "      <th>season</th>\n",
              "      <th>holiday</th>\n",
              "      <th>workingday</th>\n",
              "      <th>weather</th>\n",
              "      <th>temp</th>\n",
              "      <th>atemp</th>\n",
              "      <th>humidity</th>\n",
              "      <th>windspeed</th>\n",
              "      <th>casual</th>\n",
              "      <th>registered</th>\n",
              "      <th>count</th>\n",
              "    </tr>\n",
              "  </thead>\n",
              "  <tbody>\n",
              "    <tr>\n",
              "      <th>6737</th>\n",
              "      <td>2012-03-18 00:00:00</td>\n",
              "      <td>1</td>\n",
              "      <td>0</td>\n",
              "      <td>0</td>\n",
              "      <td>1</td>\n",
              "      <td>18.86</td>\n",
              "      <td>22.725</td>\n",
              "      <td>88</td>\n",
              "      <td>12.9980</td>\n",
              "      <td>27</td>\n",
              "      <td>80</td>\n",
              "      <td>107</td>\n",
              "    </tr>\n",
              "    <tr>\n",
              "      <th>6852</th>\n",
              "      <td>2012-04-03 20:00:00</td>\n",
              "      <td>2</td>\n",
              "      <td>0</td>\n",
              "      <td>1</td>\n",
              "      <td>1</td>\n",
              "      <td>22.96</td>\n",
              "      <td>26.515</td>\n",
              "      <td>24</td>\n",
              "      <td>8.9981</td>\n",
              "      <td>54</td>\n",
              "      <td>325</td>\n",
              "      <td>379</td>\n",
              "    </tr>\n",
              "    <tr>\n",
              "      <th>8616</th>\n",
              "      <td>2012-08-01 09:00:00</td>\n",
              "      <td>3</td>\n",
              "      <td>0</td>\n",
              "      <td>1</td>\n",
              "      <td>2</td>\n",
              "      <td>27.88</td>\n",
              "      <td>31.820</td>\n",
              "      <td>74</td>\n",
              "      <td>6.0032</td>\n",
              "      <td>34</td>\n",
              "      <td>316</td>\n",
              "      <td>350</td>\n",
              "    </tr>\n",
              "    <tr>\n",
              "      <th>2435</th>\n",
              "      <td>2011-06-09 09:00:00</td>\n",
              "      <td>2</td>\n",
              "      <td>0</td>\n",
              "      <td>1</td>\n",
              "      <td>1</td>\n",
              "      <td>34.44</td>\n",
              "      <td>39.395</td>\n",
              "      <td>49</td>\n",
              "      <td>0.0000</td>\n",
              "      <td>20</td>\n",
              "      <td>148</td>\n",
              "      <td>168</td>\n",
              "    </tr>\n",
              "    <tr>\n",
              "      <th>341</th>\n",
              "      <td>2011-01-15 17:00:00</td>\n",
              "      <td>1</td>\n",
              "      <td>0</td>\n",
              "      <td>0</td>\n",
              "      <td>2</td>\n",
              "      <td>13.12</td>\n",
              "      <td>15.150</td>\n",
              "      <td>36</td>\n",
              "      <td>19.0012</td>\n",
              "      <td>29</td>\n",
              "      <td>54</td>\n",
              "      <td>83</td>\n",
              "    </tr>\n",
              "  </tbody>\n",
              "</table>\n",
              "</div>"
            ],
            "text/plain": [
              "                datetime  season  holiday  workingday  weather   temp   atemp  \\\n",
              "6737 2012-03-18 00:00:00       1        0           0        1  18.86  22.725   \n",
              "6852 2012-04-03 20:00:00       2        0           1        1  22.96  26.515   \n",
              "8616 2012-08-01 09:00:00       3        0           1        2  27.88  31.820   \n",
              "2435 2011-06-09 09:00:00       2        0           1        1  34.44  39.395   \n",
              "341  2011-01-15 17:00:00       1        0           0        2  13.12  15.150   \n",
              "\n",
              "      humidity  windspeed  casual  registered  count  \n",
              "6737        88    12.9980      27          80    107  \n",
              "6852        24     8.9981      54         325    379  \n",
              "8616        74     6.0032      34         316    350  \n",
              "2435        49     0.0000      20         148    168  \n",
              "341         36    19.0012      29          54     83  "
            ]
          },
          "execution_count": 65,
          "metadata": {},
          "output_type": "execute_result"
        }
      ],
      "source": [
        "# 데이터 불러오기\n",
        "bike_df = pd.read_csv('data/bike_train.csv', parse_dates=['datetime'])\n",
        "bike_df.sample(5)"
      ]
    },
    {
      "cell_type": "code",
      "execution_count": 66,
      "metadata": {},
      "outputs": [
        {
          "name": "stdout",
          "output_type": "stream",
          "text": [
            "<class 'pandas.core.frame.DataFrame'>\n",
            "RangeIndex: 10886 entries, 0 to 10885\n",
            "Data columns (total 12 columns):\n",
            " #   Column      Non-Null Count  Dtype         \n",
            "---  ------      --------------  -----         \n",
            " 0   datetime    10886 non-null  datetime64[ns]\n",
            " 1   season      10886 non-null  int64         \n",
            " 2   holiday     10886 non-null  int64         \n",
            " 3   workingday  10886 non-null  int64         \n",
            " 4   weather     10886 non-null  int64         \n",
            " 5   temp        10886 non-null  float64       \n",
            " 6   atemp       10886 non-null  float64       \n",
            " 7   humidity    10886 non-null  int64         \n",
            " 8   windspeed   10886 non-null  float64       \n",
            " 9   casual      10886 non-null  int64         \n",
            " 10  registered  10886 non-null  int64         \n",
            " 11  count       10886 non-null  int64         \n",
            "dtypes: datetime64[ns](1), float64(3), int64(8)\n",
            "memory usage: 1020.7 KB\n"
          ]
        }
      ],
      "source": [
        "bike_df.info()"
      ]
    },
    {
      "cell_type": "code",
      "execution_count": 67,
      "metadata": {},
      "outputs": [],
      "source": [
        "# 문자열을 datetime 타입으로 변경.\n",
        "bike_df['datetime'] = bike_df.datetime.apply(pd.to_datetime)"
      ]
    },
    {
      "cell_type": "code",
      "execution_count": 68,
      "metadata": {
        "colab": {
          "base_uri": "https://localhost:8080/",
          "height": 195
        },
        "id": "el1g-JVoA2KX",
        "outputId": "b926c78a-0a7f-418d-ef85-a11d6a54f246"
      },
      "outputs": [
        {
          "data": {
            "text/html": [
              "<div>\n",
              "<style scoped>\n",
              "    .dataframe tbody tr th:only-of-type {\n",
              "        vertical-align: middle;\n",
              "    }\n",
              "\n",
              "    .dataframe tbody tr th {\n",
              "        vertical-align: top;\n",
              "    }\n",
              "\n",
              "    .dataframe thead th {\n",
              "        text-align: right;\n",
              "    }\n",
              "</style>\n",
              "<table border=\"1\" class=\"dataframe\">\n",
              "  <thead>\n",
              "    <tr style=\"text-align: right;\">\n",
              "      <th></th>\n",
              "      <th>datetime</th>\n",
              "      <th>season</th>\n",
              "      <th>holiday</th>\n",
              "      <th>workingday</th>\n",
              "      <th>weather</th>\n",
              "      <th>temp</th>\n",
              "      <th>atemp</th>\n",
              "      <th>humidity</th>\n",
              "      <th>windspeed</th>\n",
              "      <th>casual</th>\n",
              "      <th>registered</th>\n",
              "      <th>count</th>\n",
              "      <th>year</th>\n",
              "      <th>month</th>\n",
              "      <th>day</th>\n",
              "      <th>hour</th>\n",
              "      <th>dayofweek</th>\n",
              "    </tr>\n",
              "  </thead>\n",
              "  <tbody>\n",
              "    <tr>\n",
              "      <th>0</th>\n",
              "      <td>2011-01-01</td>\n",
              "      <td>1</td>\n",
              "      <td>0</td>\n",
              "      <td>0</td>\n",
              "      <td>1</td>\n",
              "      <td>9.84</td>\n",
              "      <td>14.395</td>\n",
              "      <td>81</td>\n",
              "      <td>0.0</td>\n",
              "      <td>3</td>\n",
              "      <td>13</td>\n",
              "      <td>16</td>\n",
              "      <td>2011</td>\n",
              "      <td>1</td>\n",
              "      <td>1</td>\n",
              "      <td>0</td>\n",
              "      <td>5</td>\n",
              "    </tr>\n",
              "  </tbody>\n",
              "</table>\n",
              "</div>"
            ],
            "text/plain": [
              "    datetime  season  holiday  workingday  weather  temp   atemp  humidity  \\\n",
              "0 2011-01-01       1        0           0        1  9.84  14.395        81   \n",
              "\n",
              "   windspeed  casual  registered  count  year  month  day  hour  dayofweek  \n",
              "0        0.0       3          13     16  2011      1    1     0          5  "
            ]
          },
          "execution_count": 68,
          "metadata": {},
          "output_type": "execute_result"
        }
      ],
      "source": [
        "# datetime 타입에서 년, 월, 일, 시간, 요일 추출\n",
        "from datetime import datetime\n",
        "\n",
        "# 년 추출\n",
        "bike_df['year'] = bike_df['datetime'].dt.year\n",
        "\n",
        "# 월 추출 \n",
        "bike_df['month'] = bike_df['datetime'].dt.month\n",
        "\n",
        "# 일 추출 \n",
        "bike_df['day'] = bike_df['datetime'].dt.day\n",
        "\n",
        "# 시간 추출 \n",
        "bike_df['hour'] = bike_df['datetime'].dt.hour\n",
        "\n",
        "# 요일 추출\n",
        "bike_df['dayofweek'] = bike_df['datetime'].dt.dayofweek\n",
        "\n",
        "bike_df.head(1)"
      ]
    },
    {
      "cell_type": "code",
      "execution_count": 69,
      "metadata": {},
      "outputs": [
        {
          "name": "stdout",
          "output_type": "stream",
          "text": [
            "<class 'pandas.core.frame.DataFrame'>\n",
            "RangeIndex: 10886 entries, 0 to 10885\n",
            "Data columns (total 17 columns):\n",
            " #   Column      Non-Null Count  Dtype         \n",
            "---  ------      --------------  -----         \n",
            " 0   datetime    10886 non-null  datetime64[ns]\n",
            " 1   season      10886 non-null  int64         \n",
            " 2   holiday     10886 non-null  int64         \n",
            " 3   workingday  10886 non-null  int64         \n",
            " 4   weather     10886 non-null  int64         \n",
            " 5   temp        10886 non-null  float64       \n",
            " 6   atemp       10886 non-null  float64       \n",
            " 7   humidity    10886 non-null  int64         \n",
            " 8   windspeed   10886 non-null  float64       \n",
            " 9   casual      10886 non-null  int64         \n",
            " 10  registered  10886 non-null  int64         \n",
            " 11  count       10886 non-null  int64         \n",
            " 12  year        10886 non-null  int32         \n",
            " 13  month       10886 non-null  int32         \n",
            " 14  day         10886 non-null  int32         \n",
            " 15  hour        10886 non-null  int32         \n",
            " 16  dayofweek   10886 non-null  int32         \n",
            "dtypes: datetime64[ns](1), float64(3), int32(5), int64(8)\n",
            "memory usage: 1.2 MB\n"
          ]
        }
      ],
      "source": [
        "# info(): 데이터프레임의 정보 출력\n",
        "bike_df.info()"
      ]
    },
    {
      "cell_type": "code",
      "execution_count": 70,
      "metadata": {
        "id": "nDt7eBrcBJNZ"
      },
      "outputs": [
        {
          "data": {
            "text/html": [
              "<div>\n",
              "<style scoped>\n",
              "    .dataframe tbody tr th:only-of-type {\n",
              "        vertical-align: middle;\n",
              "    }\n",
              "\n",
              "    .dataframe tbody tr th {\n",
              "        vertical-align: top;\n",
              "    }\n",
              "\n",
              "    .dataframe thead th {\n",
              "        text-align: right;\n",
              "    }\n",
              "</style>\n",
              "<table border=\"1\" class=\"dataframe\">\n",
              "  <thead>\n",
              "    <tr style=\"text-align: right;\">\n",
              "      <th></th>\n",
              "      <th>season</th>\n",
              "      <th>holiday</th>\n",
              "      <th>workingday</th>\n",
              "      <th>weather</th>\n",
              "      <th>temp</th>\n",
              "      <th>atemp</th>\n",
              "      <th>humidity</th>\n",
              "      <th>windspeed</th>\n",
              "      <th>count</th>\n",
              "      <th>year</th>\n",
              "      <th>month</th>\n",
              "      <th>day</th>\n",
              "      <th>hour</th>\n",
              "      <th>dayofweek</th>\n",
              "    </tr>\n",
              "  </thead>\n",
              "  <tbody>\n",
              "    <tr>\n",
              "      <th>0</th>\n",
              "      <td>1</td>\n",
              "      <td>0</td>\n",
              "      <td>0</td>\n",
              "      <td>1</td>\n",
              "      <td>9.84</td>\n",
              "      <td>14.395</td>\n",
              "      <td>81</td>\n",
              "      <td>0.0</td>\n",
              "      <td>16</td>\n",
              "      <td>2011</td>\n",
              "      <td>1</td>\n",
              "      <td>1</td>\n",
              "      <td>0</td>\n",
              "      <td>5</td>\n",
              "    </tr>\n",
              "    <tr>\n",
              "      <th>1</th>\n",
              "      <td>1</td>\n",
              "      <td>0</td>\n",
              "      <td>0</td>\n",
              "      <td>1</td>\n",
              "      <td>9.02</td>\n",
              "      <td>13.635</td>\n",
              "      <td>80</td>\n",
              "      <td>0.0</td>\n",
              "      <td>40</td>\n",
              "      <td>2011</td>\n",
              "      <td>1</td>\n",
              "      <td>1</td>\n",
              "      <td>1</td>\n",
              "      <td>5</td>\n",
              "    </tr>\n",
              "    <tr>\n",
              "      <th>2</th>\n",
              "      <td>1</td>\n",
              "      <td>0</td>\n",
              "      <td>0</td>\n",
              "      <td>1</td>\n",
              "      <td>9.02</td>\n",
              "      <td>13.635</td>\n",
              "      <td>80</td>\n",
              "      <td>0.0</td>\n",
              "      <td>32</td>\n",
              "      <td>2011</td>\n",
              "      <td>1</td>\n",
              "      <td>1</td>\n",
              "      <td>2</td>\n",
              "      <td>5</td>\n",
              "    </tr>\n",
              "    <tr>\n",
              "      <th>3</th>\n",
              "      <td>1</td>\n",
              "      <td>0</td>\n",
              "      <td>0</td>\n",
              "      <td>1</td>\n",
              "      <td>9.84</td>\n",
              "      <td>14.395</td>\n",
              "      <td>75</td>\n",
              "      <td>0.0</td>\n",
              "      <td>13</td>\n",
              "      <td>2011</td>\n",
              "      <td>1</td>\n",
              "      <td>1</td>\n",
              "      <td>3</td>\n",
              "      <td>5</td>\n",
              "    </tr>\n",
              "    <tr>\n",
              "      <th>4</th>\n",
              "      <td>1</td>\n",
              "      <td>0</td>\n",
              "      <td>0</td>\n",
              "      <td>1</td>\n",
              "      <td>9.84</td>\n",
              "      <td>14.395</td>\n",
              "      <td>75</td>\n",
              "      <td>0.0</td>\n",
              "      <td>1</td>\n",
              "      <td>2011</td>\n",
              "      <td>1</td>\n",
              "      <td>1</td>\n",
              "      <td>4</td>\n",
              "      <td>5</td>\n",
              "    </tr>\n",
              "  </tbody>\n",
              "</table>\n",
              "</div>"
            ],
            "text/plain": [
              "   season  holiday  workingday  weather  temp   atemp  humidity  windspeed  \\\n",
              "0       1        0           0        1  9.84  14.395        81        0.0   \n",
              "1       1        0           0        1  9.02  13.635        80        0.0   \n",
              "2       1        0           0        1  9.02  13.635        80        0.0   \n",
              "3       1        0           0        1  9.84  14.395        75        0.0   \n",
              "4       1        0           0        1  9.84  14.395        75        0.0   \n",
              "\n",
              "   count  year  month  day  hour  dayofweek  \n",
              "0     16  2011      1    1     0          5  \n",
              "1     40  2011      1    1     1          5  \n",
              "2     32  2011      1    1     2          5  \n",
              "3     13  2011      1    1     3          5  \n",
              "4      1  2011      1    1     4          5  "
            ]
          },
          "execution_count": 70,
          "metadata": {},
          "output_type": "execute_result"
        }
      ],
      "source": [
        "drop_columns = ['datetime','casual','registered']\n",
        "# 필요없는 컬럼 삭제하기\n",
        "\n",
        "bike_df.drop(drop_columns, axis=1, inplace=True)\n",
        "bike_df.head()"
      ]
    },
    {
      "cell_type": "code",
      "execution_count": 71,
      "metadata": {
        "id": "v3P1BYdeZ3Ue"
      },
      "outputs": [],
      "source": [
        "# EDA를 위한 시각화하기\n",
        "# EDA: 데이터를 잘 이해하고, 패턴과 이상치(문제)를 눈으로 확인하려는 작업\n",
        "\n",
        "# 조건에 따른 대여량 시각화"
      ]
    },
    {
      "cell_type": "code",
      "execution_count": 76,
      "metadata": {
        "id": "Ce3O-t_vaGHQ"
      },
      "outputs": [
        {
          "data": {
            "image/png": "[encoded data removed]",
            "text/plain": [
              "<Figure size 1600x800 with 8 Axes>"
            ]
          },
          "metadata": {},
          "output_type": "display_data"
        }
      ],
      "source": [
        "# 막대 그래프(년, 월, 시즌, 날씨, 일, 시간, 휴일, 근무일)\n",
        "plt.figure(figsize=(16,8))\n",
        "features = ['season', 'weather', 'year', 'month', 'day', 'hour', 'holiday', 'workingday']\n",
        "\n",
        "for i, feature in enumerate(features):\n",
        "    plt.subplot(2, 4, i+1)\n",
        "    sns.barplot(x=feature, y='count', data=bike_df, palette='pastel')\n",
        "    plt.title(feature+'-count')\n",
        "plt.tight_layout()\n",
        "plt.show()"
      ]
    },
    {
      "cell_type": "code",
      "execution_count": 80,
      "metadata": {},
      "outputs": [
        {
          "data": {
            "image/png": "[encoded data removed]",
            "text/plain": [
              "<Figure size 640x480 with 1 Axes>"
            ]
          },
          "metadata": {},
          "output_type": "display_data"
        }
      ],
      "source": [
        "# 월별 평균 기온(temp) 시각화\n",
        "# barkplot은 자동으로 그룹별 평균을 계산해준다\n",
        "# temp: 실제 기온 (실제 측정된 온도), atemp: 체감 온도 (사람이 느끼는 온도)\n",
        "\n",
        "sns.barplot(x='month', y='temp', data=bike_df, palette='pastel')\n",
        "plt.title('monthly-temperature')\n",
        "plt.show()"
      ]
    },
    {
      "cell_type": "code",
      "execution_count": null,
      "metadata": {},
      "outputs": [
        {
          "data": {
            "text/html": [
              "<div>\n",
              "<style scoped>\n",
              "    .dataframe tbody tr th:only-of-type {\n",
              "        vertical-align: middle;\n",
              "    }\n",
              "\n",
              "    .dataframe tbody tr th {\n",
              "        vertical-align: top;\n",
              "    }\n",
              "\n",
              "    .dataframe thead th {\n",
              "        text-align: right;\n",
              "    }\n",
              "</style>\n",
              "<table border=\"1\" class=\"dataframe\">\n",
              "  <thead>\n",
              "    <tr style=\"text-align: right;\">\n",
              "      <th></th>\n",
              "      <th>month</th>\n",
              "      <th>season</th>\n",
              "    </tr>\n",
              "  </thead>\n",
              "  <tbody>\n",
              "    <tr>\n",
              "      <th>0</th>\n",
              "      <td>1</td>\n",
              "      <td>1</td>\n",
              "    </tr>\n",
              "    <tr>\n",
              "      <th>431</th>\n",
              "      <td>2</td>\n",
              "      <td>1</td>\n",
              "    </tr>\n",
              "    <tr>\n",
              "      <th>877</th>\n",
              "      <td>3</td>\n",
              "      <td>1</td>\n",
              "    </tr>\n",
              "    <tr>\n",
              "      <th>1323</th>\n",
              "      <td>4</td>\n",
              "      <td>2</td>\n",
              "    </tr>\n",
              "    <tr>\n",
              "      <th>1778</th>\n",
              "      <td>5</td>\n",
              "      <td>2</td>\n",
              "    </tr>\n",
              "    <tr>\n",
              "      <th>2234</th>\n",
              "      <td>6</td>\n",
              "      <td>2</td>\n",
              "    </tr>\n",
              "    <tr>\n",
              "      <th>2690</th>\n",
              "      <td>7</td>\n",
              "      <td>3</td>\n",
              "    </tr>\n",
              "    <tr>\n",
              "      <th>3146</th>\n",
              "      <td>8</td>\n",
              "      <td>3</td>\n",
              "    </tr>\n",
              "    <tr>\n",
              "      <th>3602</th>\n",
              "      <td>9</td>\n",
              "      <td>3</td>\n",
              "    </tr>\n",
              "    <tr>\n",
              "      <th>4055</th>\n",
              "      <td>10</td>\n",
              "      <td>4</td>\n",
              "    </tr>\n",
              "    <tr>\n",
              "      <th>4510</th>\n",
              "      <td>11</td>\n",
              "      <td>4</td>\n",
              "    </tr>\n",
              "    <tr>\n",
              "      <th>4966</th>\n",
              "      <td>12</td>\n",
              "      <td>4</td>\n",
              "    </tr>\n",
              "  </tbody>\n",
              "</table>\n",
              "</div>"
            ],
            "text/plain": [
              "      month  season\n",
              "0         1       1\n",
              "431       2       1\n",
              "877       3       1\n",
              "1323      4       2\n",
              "1778      5       2\n",
              "2234      6       2\n",
              "2690      7       3\n",
              "3146      8       3\n",
              "3602      9       3\n",
              "4055     10       4\n",
              "4510     11       4\n",
              "4966     12       4"
            ]
          },
          "execution_count": 81,
          "metadata": {},
          "output_type": "execute_result"
        }
      ],
      "source": [
        "# bike_df 데이터프레임에서 'month'랑 'season' 두 열만 선택하고, 중복된 행을 제거함\n",
        "bike_df[['month', 'season']].drop_duplicates()"
      ]
    },
    {
      "cell_type": "code",
      "execution_count": 86,
      "metadata": {},
      "outputs": [
        {
          "data": {
            "text/plain": [
              "<Axes: title={'center': 'average temperature by month'}, xlabel='month', ylabel='mean temp'>"
            ]
          },
          "execution_count": 86,
          "metadata": {},
          "output_type": "execute_result"
        },
        {
          "data": {
            "image/png": "[encoded data removed]",
            "text/plain": [
              "<Figure size 640x480 with 1 Axes>"
            ]
          },
          "metadata": {},
          "output_type": "display_data"
        }
      ],
      "source": [
        "bike_df.groupby('month')['temp'].mean().plot.bar(ylabel='mean temp', xlabel='month', title='average temperature by month')"
      ]
    },
    {
      "cell_type": "code",
      "execution_count": 90,
      "metadata": {},
      "outputs": [
        {
          "data": {
            "text/plain": [
              "<Axes: >"
            ]
          },
          "execution_count": 90,
          "metadata": {},
          "output_type": "execute_result"
        },
        {
          "data": {
            "image/png": "[encoded data removed]",
            "text/plain": [
              "<Figure size 640x480 with 2 Axes>"
            ]
          },
          "metadata": {},
          "output_type": "display_data"
        }
      ],
      "source": [
        "corr = bike_df[['temp', 'atemp', 'humidity', 'windspeed', 'count']].corr()\n",
        "sns.heatmap(corr, annot=True, cmap='coolwarm')"
      ]
    },
    {
      "cell_type": "code",
      "execution_count": null,
      "metadata": {
        "id": "Kr2POJ1PZ45X"
      },
      "outputs": [],
      "source": [
        "# 의미 도출"
      ]
    },
    {
      "cell_type": "code",
      "execution_count": 91,
      "metadata": {},
      "outputs": [
        {
          "data": {
            "text/html": [
              "<div>\n",
              "<style scoped>\n",
              "    .dataframe tbody tr th:only-of-type {\n",
              "        vertical-align: middle;\n",
              "    }\n",
              "\n",
              "    .dataframe tbody tr th {\n",
              "        vertical-align: top;\n",
              "    }\n",
              "\n",
              "    .dataframe thead th {\n",
              "        text-align: right;\n",
              "    }\n",
              "</style>\n",
              "<table border=\"1\" class=\"dataframe\">\n",
              "  <thead>\n",
              "    <tr style=\"text-align: right;\">\n",
              "      <th></th>\n",
              "      <th>season</th>\n",
              "      <th>holiday</th>\n",
              "      <th>workingday</th>\n",
              "      <th>weather</th>\n",
              "      <th>temp</th>\n",
              "      <th>atemp</th>\n",
              "      <th>humidity</th>\n",
              "      <th>windspeed</th>\n",
              "      <th>count</th>\n",
              "      <th>year</th>\n",
              "      <th>month</th>\n",
              "      <th>day</th>\n",
              "      <th>hour</th>\n",
              "      <th>dayofweek</th>\n",
              "    </tr>\n",
              "  </thead>\n",
              "  <tbody>\n",
              "    <tr>\n",
              "      <th>0</th>\n",
              "      <td>1</td>\n",
              "      <td>0</td>\n",
              "      <td>0</td>\n",
              "      <td>1</td>\n",
              "      <td>9.84</td>\n",
              "      <td>14.395</td>\n",
              "      <td>81</td>\n",
              "      <td>0.0</td>\n",
              "      <td>16</td>\n",
              "      <td>2011</td>\n",
              "      <td>1</td>\n",
              "      <td>1</td>\n",
              "      <td>0</td>\n",
              "      <td>5</td>\n",
              "    </tr>\n",
              "  </tbody>\n",
              "</table>\n",
              "</div>"
            ],
            "text/plain": [
              "   season  holiday  workingday  weather  temp   atemp  humidity  windspeed  \\\n",
              "0       1        0           0        1  9.84  14.395        81        0.0   \n",
              "\n",
              "   count  year  month  day  hour  dayofweek  \n",
              "0     16  2011      1    1     0          5  "
            ]
          },
          "execution_count": 91,
          "metadata": {},
          "output_type": "execute_result"
        }
      ],
      "source": [
        "bike_df.head(1)"
      ]
    },
    {
      "cell_type": "code",
      "execution_count": 93,
      "metadata": {
        "id": "vfu7m3UMDr8V"
      },
      "outputs": [],
      "source": [
        "# 변수선택\n",
        "X = bike_df.drop(['count', 'day', 'temp'], axis=1).copy()\n",
        "y = bike_df['count']"
      ]
    },
    {
      "cell_type": "code",
      "execution_count": null,
      "metadata": {},
      "outputs": [],
      "source": [
        "# 훈련세트/테스트세트 분할 -> 전처리 하기 전의 데이터를 분할\n",
        "from sklearn.model_selection import train_test_split\n",
        "\n",
        "X_train, X_test, y_train, y_test = train_test_split(X, y, test_size=0.3, random_state=42)"
      ]
    },
    {
      "cell_type": "code",
      "execution_count": 108,
      "metadata": {},
      "outputs": [
        {
          "name": "stdout",
          "output_type": "stream",
          "text": [
            "r2: 0.3863\n",
            "rmse: 141.3202\n",
            "mae: 105.6743\n",
            "mse: 19971.4032\n"
          ]
        }
      ],
      "source": [
        "# LinearRegressor 모델 생성 및 훈련\n",
        "from sklearn.linear_model import LinearRegression\n",
        "model1 = LinearRegression()\n",
        "\n",
        "model1.fit(X_train, y_train)\n",
        "\n",
        "# 예측\n",
        "y_pred1 = model1.predict(X_test)\n",
        "\n",
        "# 평가\n",
        "from sklearn.metrics import r2_score, root_mean_squared_error, mean_absolute_error, mean_squared_error\n",
        "\n",
        "r2 = r2_score(y_test, y_pred1)\n",
        "rmse = root_mean_squared_error(y_test, y_pred1)\n",
        "mae = mean_absolute_error(y_test, y_pred1)\n",
        "mse = mean_squared_error(y_test, y_pred1)\n",
        "\n",
        "# r2, rmse, mae, mse\n",
        "print(f\"r2: {r2:.4f}\")\n",
        "print(f\"rmse: {rmse:.4f}\")\n",
        "print(f\"mae: {mae:.4f}\")\n",
        "print(f\"mse: {mse:.4f}\")"
      ]
    },
    {
      "cell_type": "code",
      "execution_count": null,
      "metadata": {},
      "outputs": [
        {
          "name": "stdout",
          "output_type": "stream",
          "text": [
            "R2: 0.5867270514714753\n",
            "MSE: 13448.02372320882\n",
            "R2: 0.8978492081509479\n",
            "MSE: 3324.0169167176973\n",
            "R2: 0.9508793326016547\n",
            "MSE: 1598.4010151760606\n"
          ]
        }
      ],
      "source": [
        "# KNeighborsRegressor, DecisionTreeRegressor, RandomForestRegressor\n",
        "from sklearn.neighbors import KNeighborsRegressor\n",
        "from sklearn.tree import DecisionTreeRegressor\n",
        "from sklearn.ensemble import RandomForestRegressor\n",
        "\n",
        "# 모델 생성\n",
        "model2 = KNeighborsRegressor()\n",
        "model3 = DecisionTreeRegressor(random_state=42)\n",
        "model4 = RandomForestRegressor(random_state=42)\n",
        "\n",
        "# 훈련\n",
        "model2.fit(X_train, y_train)\n",
        "model3.fit(X_train, y_train)\n",
        "model4.fit(X_train, y_train)\n",
        "\n",
        "# 예측\n",
        "y_pred2 = model2.predict(X_test)\n",
        "print(\"R2:\", r2_score(y_test, y_pred2))\n",
        "print(\"MSE:\", mean_squared_error(y_test, y_pred2))\n",
        "\n",
        "y_pred3 = model3.predict(X_test)\n",
        "print(\"R2:\", r2_score(y_test, y_pred3))\n",
        "print(\"MSE:\", mean_squared_error(y_test, y_pred3))\n",
        "\n",
        "y_pred4 = model4.predict(X_test)\n",
        "print(\"R2:\", r2_score(y_test, y_pred4))\n",
        "print(\"MSE:\", mean_squared_error(y_test, y_pred4))\n",
        "\n"
      ]
    },
    {
      "cell_type": "code",
      "execution_count": null,
      "metadata": {},
      "outputs": [
        {
          "data": {
            "image/png": "[encoded data removed]",
            "text/plain": [
              "<Figure size 640x480 with 1 Axes>"
            ]
          },
          "metadata": {},
          "output_type": "display_data"
        }
      ],
      "source": [
        "# 수치형변수 스케일링 \n",
        "sns.boxplot(X_train[['atemp', 'humidity', 'windspeed']])"
      ]
    },
    {
      "cell_type": "code",
      "execution_count": 111,
      "metadata": {},
      "outputs": [],
      "source": [
        "from sklearn.preprocessing import StandardScaler \n",
        "\n",
        "features = ['atemp', 'humidity', 'windspeed']\n",
        "\n",
        "scaler = StandardScaler()\n",
        "X_train[features] = scaler.fit_transform(X_train[features])\n",
        "X_test[features] = scaler.transform(X_test[features])"
      ]
    },
    {
      "cell_type": "code",
      "execution_count": 121,
      "metadata": {},
      "outputs": [
        {
          "data": {
            "text/html": [
              "<div>\n",
              "<style scoped>\n",
              "    .dataframe tbody tr th:only-of-type {\n",
              "        vertical-align: middle;\n",
              "    }\n",
              "\n",
              "    .dataframe tbody tr th {\n",
              "        vertical-align: top;\n",
              "    }\n",
              "\n",
              "    .dataframe thead th {\n",
              "        text-align: right;\n",
              "    }\n",
              "</style>\n",
              "<table border=\"1\" class=\"dataframe\">\n",
              "  <thead>\n",
              "    <tr style=\"text-align: right;\">\n",
              "      <th></th>\n",
              "      <th>season</th>\n",
              "      <th>weather</th>\n",
              "      <th>year</th>\n",
              "      <th>month</th>\n",
              "      <th>hour</th>\n",
              "      <th>dayofweek</th>\n",
              "      <th>season_1</th>\n",
              "      <th>season_2</th>\n",
              "      <th>season_3</th>\n",
              "      <th>season_4</th>\n",
              "      <th>...</th>\n",
              "      <th>hour_21</th>\n",
              "      <th>hour_22</th>\n",
              "      <th>hour_23</th>\n",
              "      <th>dayofweek_0</th>\n",
              "      <th>dayofweek_1</th>\n",
              "      <th>dayofweek_2</th>\n",
              "      <th>dayofweek_3</th>\n",
              "      <th>dayofweek_4</th>\n",
              "      <th>dayofweek_5</th>\n",
              "      <th>dayofweek_6</th>\n",
              "    </tr>\n",
              "  </thead>\n",
              "  <tbody>\n",
              "    <tr>\n",
              "      <th>6587</th>\n",
              "      <td>1</td>\n",
              "      <td>1</td>\n",
              "      <td>2012</td>\n",
              "      <td>3</td>\n",
              "      <td>18</td>\n",
              "      <td>6</td>\n",
              "      <td>1.0</td>\n",
              "      <td>0.0</td>\n",
              "      <td>0.0</td>\n",
              "      <td>0.0</td>\n",
              "      <td>...</td>\n",
              "      <td>0.0</td>\n",
              "      <td>0.0</td>\n",
              "      <td>0.0</td>\n",
              "      <td>0.0</td>\n",
              "      <td>0.0</td>\n",
              "      <td>0.0</td>\n",
              "      <td>0.0</td>\n",
              "      <td>0.0</td>\n",
              "      <td>0.0</td>\n",
              "      <td>1.0</td>\n",
              "    </tr>\n",
              "    <tr>\n",
              "      <th>10526</th>\n",
              "      <td>4</td>\n",
              "      <td>1</td>\n",
              "      <td>2012</td>\n",
              "      <td>12</td>\n",
              "      <td>0</td>\n",
              "      <td>2</td>\n",
              "      <td>0.0</td>\n",
              "      <td>0.0</td>\n",
              "      <td>0.0</td>\n",
              "      <td>1.0</td>\n",
              "      <td>...</td>\n",
              "      <td>0.0</td>\n",
              "      <td>0.0</td>\n",
              "      <td>0.0</td>\n",
              "      <td>0.0</td>\n",
              "      <td>0.0</td>\n",
              "      <td>1.0</td>\n",
              "      <td>0.0</td>\n",
              "      <td>0.0</td>\n",
              "      <td>0.0</td>\n",
              "      <td>0.0</td>\n",
              "    </tr>\n",
              "    <tr>\n",
              "      <th>9019</th>\n",
              "      <td>3</td>\n",
              "      <td>1</td>\n",
              "      <td>2012</td>\n",
              "      <td>8</td>\n",
              "      <td>4</td>\n",
              "      <td>5</td>\n",
              "      <td>0.0</td>\n",
              "      <td>0.0</td>\n",
              "      <td>1.0</td>\n",
              "      <td>0.0</td>\n",
              "      <td>...</td>\n",
              "      <td>0.0</td>\n",
              "      <td>0.0</td>\n",
              "      <td>0.0</td>\n",
              "      <td>0.0</td>\n",
              "      <td>0.0</td>\n",
              "      <td>0.0</td>\n",
              "      <td>0.0</td>\n",
              "      <td>0.0</td>\n",
              "      <td>1.0</td>\n",
              "      <td>0.0</td>\n",
              "    </tr>\n",
              "    <tr>\n",
              "      <th>4966</th>\n",
              "      <td>4</td>\n",
              "      <td>1</td>\n",
              "      <td>2011</td>\n",
              "      <td>12</td>\n",
              "      <td>0</td>\n",
              "      <td>3</td>\n",
              "      <td>0.0</td>\n",
              "      <td>0.0</td>\n",
              "      <td>0.0</td>\n",
              "      <td>1.0</td>\n",
              "      <td>...</td>\n",
              "      <td>0.0</td>\n",
              "      <td>0.0</td>\n",
              "      <td>0.0</td>\n",
              "      <td>0.0</td>\n",
              "      <td>0.0</td>\n",
              "      <td>0.0</td>\n",
              "      <td>1.0</td>\n",
              "      <td>0.0</td>\n",
              "      <td>0.0</td>\n",
              "      <td>0.0</td>\n",
              "    </tr>\n",
              "    <tr>\n",
              "      <th>7376</th>\n",
              "      <td>2</td>\n",
              "      <td>2</td>\n",
              "      <td>2012</td>\n",
              "      <td>5</td>\n",
              "      <td>17</td>\n",
              "      <td>6</td>\n",
              "      <td>0.0</td>\n",
              "      <td>1.0</td>\n",
              "      <td>0.0</td>\n",
              "      <td>0.0</td>\n",
              "      <td>...</td>\n",
              "      <td>0.0</td>\n",
              "      <td>0.0</td>\n",
              "      <td>0.0</td>\n",
              "      <td>0.0</td>\n",
              "      <td>0.0</td>\n",
              "      <td>0.0</td>\n",
              "      <td>0.0</td>\n",
              "      <td>0.0</td>\n",
              "      <td>0.0</td>\n",
              "      <td>1.0</td>\n",
              "    </tr>\n",
              "  </tbody>\n",
              "</table>\n",
              "<p>5 rows × 59 columns</p>\n",
              "</div>"
            ],
            "text/plain": [
              "       season  weather  year  month  hour  dayofweek  season_1  season_2  \\\n",
              "6587        1        1  2012      3    18          6       1.0       0.0   \n",
              "10526       4        1  2012     12     0          2       0.0       0.0   \n",
              "9019        3        1  2012      8     4          5       0.0       0.0   \n",
              "4966        4        1  2011     12     0          3       0.0       0.0   \n",
              "7376        2        2  2012      5    17          6       0.0       1.0   \n",
              "\n",
              "       season_3  season_4  ...  hour_21  hour_22  hour_23  dayofweek_0  \\\n",
              "6587        0.0       0.0  ...      0.0      0.0      0.0          0.0   \n",
              "10526       0.0       1.0  ...      0.0      0.0      0.0          0.0   \n",
              "9019        1.0       0.0  ...      0.0      0.0      0.0          0.0   \n",
              "4966        0.0       1.0  ...      0.0      0.0      0.0          0.0   \n",
              "7376        0.0       0.0  ...      0.0      0.0      0.0          0.0   \n",
              "\n",
              "       dayofweek_1  dayofweek_2  dayofweek_3  dayofweek_4  dayofweek_5  \\\n",
              "6587           0.0          0.0          0.0          0.0          0.0   \n",
              "10526          0.0          1.0          0.0          0.0          0.0   \n",
              "9019           0.0          0.0          0.0          0.0          1.0   \n",
              "4966           0.0          0.0          1.0          0.0          0.0   \n",
              "7376           0.0          0.0          0.0          0.0          0.0   \n",
              "\n",
              "       dayofweek_6  \n",
              "6587           1.0  \n",
              "10526          0.0  \n",
              "9019           0.0  \n",
              "4966           0.0  \n",
              "7376           1.0  \n",
              "\n",
              "[5 rows x 59 columns]"
            ]
          },
          "execution_count": 121,
          "metadata": {},
          "output_type": "execute_result"
        }
      ],
      "source": [
        "# 범주형변수 원핫인코딩\n",
        "# 봄, 여름, 가을, 겨울 등 (범주형 변수)를 숫자 0과 1로 구성된 여러 개의 이진 벡터로 변환하는 방법\n",
        "\n",
        "from sklearn.preprocessing import OneHotEncoder\n",
        "\n",
        "features = ['season', 'weather', 'year', 'month', 'hour', 'dayofweek']\n",
        "\n",
        "ohe = OneHotEncoder(handle_unknown='ignore', sparse_output=False)\n",
        "X_train_ohe = ohe.fit_transform(X_train[features])\n",
        "X_test_ohe = ohe.transform(X_test[features])\n",
        "\n",
        "ohe_columns = ohe.get_feature_names_out(features)\n",
        "\n",
        "X_train_ohe = pd.DataFrame(X_train_ohe, columns=ohe_columns, index=X_train.index)\n",
        "X_test_ohe = pd.DataFrame(X_test_ohe, columns=ohe_columns, index=X_test.index)\n",
        "\n",
        "X_train_preprocessed = pd.concat([X_train[features], X_train_ohe], axis=1)\n",
        "X_test_preprocessed = pd.concat([X_test[features], X_test_ohe], axis=1)\n",
        "\n",
        "X_train_preprocessed.sample(5)"
      ]
    },
    {
      "cell_type": "code",
      "execution_count": 138,
      "metadata": {},
      "outputs": [
        {
          "data": {
            "text/plain": [
              "array([ 232.92967857,   16.03305188,  350.8695075 , ...,  278.08501666,\n",
              "        511.68426198, -211.80509855], shape=(3266,))"
            ]
          },
          "execution_count": 138,
          "metadata": {},
          "output_type": "execute_result"
        }
      ],
      "source": [
        "# 파이프라인: 데이터 전처리와 모델 학습을 하나의 객체로 묶어서 관리할 수 있는 방법\n",
        "from sklearn.preprocessing import OneHotEncoder, StandardScaler\n",
        "from sklearn.compose import ColumnTransformer\n",
        "from sklearn.pipeline import Pipeline\n",
        "from sklearn.linear_model import LinearRegression\n",
        "\n",
        "# 수치형, 범주형 변수 나누기\n",
        "categorical_features = ['season', 'weather', 'year', 'month', 'hour', 'dayofweek']\n",
        "numerical_feautures = ['atemp', 'humidity', 'windspeed']\n",
        "\n",
        "# 컬람별 전처리 정의\n",
        "preprocessor = ColumnTransformer(\n",
        "    transformers=[\n",
        "        ('cat', OneHotEncoder(handle_unknown='ignore'), categorical_features), \n",
        "        ('num', StandardScaler(), numerical_feautures)\n",
        "    ],\n",
        "    remainder='passthrough' # 나머지 컬럼은 그대로 유지하고 해당하는 컬럼만 작업함\n",
        ")\n",
        "\n",
        "# 전체 파이프라인 구성\n",
        "pipeline = Pipeline(steps=[\n",
        "    ('preprocessing', preprocessor), # 전처리\n",
        "    ('regressor', LinearRegression()) # 모델\n",
        "])\n",
        "\n",
        "pipeline.fit(X_train, y_train)\n",
        "pipeline.predict(X_test)"
      ]
    },
    {
      "cell_type": "code",
      "execution_count": null,
      "metadata": {},
      "outputs": [
        {
          "name": "stdout",
          "output_type": "stream",
          "text": [
            "r2: 0.6682215501918287\n",
            "rmse: 103.9046133799307\n",
            "mse: 10796.168681632873\n",
            "mae: 76.28379339878063\n"
          ]
        }
      ],
      "source": [
        "# 최종 훈련 테스트 데이터 만들어서 모델 생성 및 훈련\n",
        "\n",
        "# 불필요한 범주형 원본 제거\n",
        "X_train_final = X_train_preprocessed.drop(features, axis=1)\n",
        "X_test_final = X_test_preprocessed.drop(features, axis=1)\n",
        "\n",
        "# 모델 생성 및 훈련\n",
        "model = LinearRegression()\n",
        "model.fit(X_train_final, y_train)\n",
        "\n",
        "# 예측 및 평가\n",
        "print(\"r2:\", r2_score(y_test, model.predict(X_test_final)))\n",
        "print(\"rmse:\", root_mean_squared_error(y_test, model.predict(X_test_final)))\n",
        "print(\"mse:\", mean_squared_error(y_test, model.predict(X_test_final)))\n",
        "print(\"mae:\", mean_absolute_error(y_test, model.predict(X_test_final)))"
      ]
    },
    {
      "cell_type": "code",
      "execution_count": 137,
      "metadata": {},
      "outputs": [
        {
          "name": "stdout",
          "output_type": "stream",
          "text": [
            "예상 대여 수: 375대\n"
          ]
        }
      ],
      "source": [
        "# 새로운 데이터 예측 하기 \n",
        "new_row = {\n",
        "    \"season\": 2, \"holiday\": 0, \"workingday\": 1, \"weather\": 1,\n",
        "    \"atemp\": 20.5, \"humidity\": 55, \"windspeed\": 0.12,\n",
        "    \"year\": 2025, \"month\": 5, \"day\": 1, \"hour\": 17, \"dayofweek\": 3\n",
        "}\n",
        "\n",
        "new_df = pd.DataFrame([new_row])\n",
        "\n",
        "# 예측\n",
        "count_pred = pipeline.predict(new_df)[0]\n",
        "\n",
        "# 출력\n",
        "print(f\"예상 대여 수: {count_pred:.0f}대\")"
      ]
    }
  ],
  "metadata": {
    "colab": {
      "provenance": []
    },
    "kernelspec": {
      "display_name": "py313",
      "language": "python",
      "name": "python3"
    },
    "language_info": {
      "codemirror_mode": {
        "name": "ipython",
        "version": 3
      },
      "file_extension": ".py",
      "mimetype": "text/x-python",
      "name": "python",
      "nbconvert_exporter": "python",
      "pygments_lexer": "ipython3",
      "version": "3.13.2"
    }
  },
  "nbformat": 4,
  "nbformat_minor": 0
}
